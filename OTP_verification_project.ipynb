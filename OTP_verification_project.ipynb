{
  "nbformat": 4,
  "nbformat_minor": 0,
  "metadata": {
    "colab": {
      "provenance": []
    },
    "kernelspec": {
      "name": "python3",
      "display_name": "Python 3"
    },
    "language_info": {
      "name": "python"
    }
  },
  "cells": [
    {
      "cell_type": "code",
      "source": [
        "import random\n",
        "import smtplib\n",
        "from email.mime.text import MIMEText"
      ],
      "metadata": {
        "id": "H9T3PDZ8es2h"
      },
      "execution_count": 141,
      "outputs": []
    },
    {
      "cell_type": "code",
      "source": [
        "#Generates a random 6-digit OTP using Python's random module.\n",
        "import random\n",
        "def generate_otp():\n",
        "    otp = ''.join([str(random.randint(0,9)) for _ in range(6)])\n",
        "    print(f\"Generated OTP: {otp}\")\n",
        "    return otp\n",
        "\n"
      ],
      "metadata": {
        "id": "wL6soHoirSHZ"
      },
      "execution_count": 145,
      "outputs": []
    },
    {
      "cell_type": "code",
      "source": [
        "#send thw generatd otp to users email.\n",
        "#sending otp vial mail by using libraries like smtplib for sending emails\n",
        "def send_otp(email,otp):\n",
        "    sender_email = \"your_email@example.com\"\n",
        "    sender_password = \"your_password\"\n",
        "    subject = \"your OTP code\"\n",
        "    body = f\"Your OTP code is: {otp}\"\n",
        "    msg = MIMEText(body)\n",
        "    msg['Subject'] = subject\n",
        "    msg['From'] = sender_email\n",
        "    msg['To'] = email\n",
        "\n",
        "    try:\n",
        "        print(\"Attempting to send OTP via email....\")\n",
        "        with smtplib.SMTP('smtp.gmail.com', 587) as server:\n",
        "            server.login(sender_email, sender_password)\n",
        "            server.sendmail(sender_email, email, msg.as_string())\n",
        "        print(\"OTP sent successfully!\")\n",
        "    except Exception as e:\n",
        "        print(f\"Error sending OTP: {e}\")"
      ],
      "metadata": {
        "id": "C-CM--jKrSEv"
      },
      "execution_count": 157,
      "outputs": []
    },
    {
      "cell_type": "code",
      "source": [
        "def get_user_otp(): #users OTP entry\n",
        "    return input(\"Please enter the OTP sent to your email: \")"
      ],
      "metadata": {
        "id": "G702E-O4rR_n"
      },
      "execution_count": 158,
      "outputs": []
    },
    {
      "cell_type": "code",
      "source": [
        "def verify_otp(generated_otp, entered_otp): # verifying the OTP and cmparing otp entered with generates otp\n",
        "    return generated_otp == entered_otp"
      ],
      "metadata": {
        "id": "601lkMQlrR9G"
      },
      "execution_count": 162,
      "outputs": []
    },
    {
      "cell_type": "code",
      "source": [
        "def main():\n",
        "    email = input(\"Please enter your email address: \") #ensure the user is informed if otp dosnot match and allow retries\n",
        "    otp = generate_otp()\n",
        "    send_otp(email, otp)\n",
        "\n",
        "    for attempt in range(5): #maximum attempts\n",
        "        entered_otp = get_user_otp()\n",
        "        if verify_otp( otp,entered_otp):\n",
        "          print(\"Access granted!\")\n",
        "          return\n",
        "        else:\n",
        "          print(\"Incorrect OTP. Pleasetry again\")\n",
        "    print(\"Access denied. Too many incoreect attempts.\")"
      ],
      "metadata": {
        "id": "JmCn4m7DrR6h"
      },
      "execution_count": 165,
      "outputs": []
    },
    {
      "cell_type": "code",
      "source": [
        "main() # calling the miain function"
      ],
      "metadata": {
        "colab": {
          "base_uri": "https://localhost:8080/"
        },
        "id": "lXU30fN0rR3p",
        "outputId": "fdc275c2-370f-4c5a-c147-f8f6402c99a1"
      },
      "execution_count": 166,
      "outputs": [
        {
          "output_type": "stream",
          "name": "stdout",
          "text": [
            "Please enter your email address: satyampratap@gmail.com\n",
            "Generated OTP: 603166\n",
            "Attempting to send OTP via email....\n",
            "Error sending OTP: SMTP AUTH extension not supported by server.\n",
            "Please enter the OTP sent to your email: 25478\n",
            "Incorrect OTP. Pleasetry again\n",
            "Please enter the OTP sent to your email: 114525\n",
            "Incorrect OTP. Pleasetry again\n",
            "Please enter the OTP sent to your email: 123456\n",
            "Incorrect OTP. Pleasetry again\n",
            "Please enter the OTP sent to your email: 587415\n",
            "Incorrect OTP. Pleasetry again\n",
            "Please enter the OTP sent to your email: 603166\n",
            "Access granted!\n"
          ]
        }
      ]
    },
    {
      "cell_type": "code",
      "source": [],
      "metadata": {
        "id": "hUN8OpmXlw1f"
      },
      "execution_count": null,
      "outputs": []
    },
    {
      "cell_type": "code",
      "source": [],
      "metadata": {
        "id": "6LRUPeNHlwy3"
      },
      "execution_count": null,
      "outputs": []
    },
    {
      "cell_type": "code",
      "source": [],
      "metadata": {
        "id": "5ur4_ow5lwwH"
      },
      "execution_count": null,
      "outputs": []
    },
    {
      "cell_type": "code",
      "source": [],
      "metadata": {
        "id": "HwlrdSvSlwtP"
      },
      "execution_count": null,
      "outputs": []
    }
  ]
}